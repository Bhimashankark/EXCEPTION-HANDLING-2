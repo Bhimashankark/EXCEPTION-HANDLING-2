{
 "cells": [
  {
   "cell_type": "markdown",
   "id": "d5bdd2e5-019d-44eb-b4a2-c647f713eef8",
   "metadata": {},
   "source": [
    "Q1. Explain why we have to use the Exception class while creating a Custom Exception.\n",
    "Note: Here Exception class refers to the base class for all the exceptions."
   ]
  },
  {
   "cell_type": "markdown",
   "id": "a8f3a76e-df88-4f72-bc9a-c50e4d628a24",
   "metadata": {},
   "source": [
    "We use the Exception class as the base class when creating a custom exception because it provides a lot of built-in functionality that makes it easier to handle exceptions.\n",
    "\n",
    "The Exception class is the base class for all exceptions in Python, which means that it provides a lot of functionality that is useful for handling exceptions. This includes the ability to provide a custom error message, traceback information, and other important information about the exception.\n",
    "\n",
    "When creating a custom exception, we can inherit from the Exception class and then define our own properties and methods specific to our custom exception. By inheriting from Exception, our custom exception will automatically have access to all the functionality provided by the base class.\n",
    "\n",
    "Additionally, using the Exception class as the base class makes it easier for other developers who may encounter our custom exception to understand what type of exception it is and how it should be handled. Since Exception is a well-known and widely used class, using it as the base class for our custom exception helps to ensure that our code is more maintainable and easier to understand."
   ]
  },
  {
   "cell_type": "markdown",
   "id": "348a750a-3467-4617-9e97-8aac0d91c501",
   "metadata": {},
   "source": [
    "Q2. Write a python program to print Python Exception Hierarchy."
   ]
  },
  {
   "cell_type": "code",
   "execution_count": 1,
   "id": "7ed0755c-4f01-4b4c-b104-5f75cb5692d9",
   "metadata": {},
   "outputs": [
    {
     "name": "stdout",
     "output_type": "stream",
     "text": [
      "ArithmeticError\n",
      "AssertionError\n",
      "AttributeError\n",
      "BaseException\n",
      "BlockingIOError\n",
      "BrokenPipeError\n",
      "BufferError\n",
      "BytesWarning\n",
      "ChildProcessError\n",
      "ConnectionAbortedError\n",
      "ConnectionError\n",
      "ConnectionRefusedError\n",
      "ConnectionResetError\n",
      "DeprecationWarning\n",
      "EOFError\n",
      "EncodingWarning\n",
      "EnvironmentError\n",
      "Exception\n",
      "FileExistsError\n",
      "FileNotFoundError\n",
      "FloatingPointError\n",
      "FutureWarning\n",
      "GeneratorExit\n",
      "IOError\n",
      "ImportError\n",
      "ImportWarning\n",
      "IndentationError\n",
      "IndexError\n",
      "InterruptedError\n",
      "IsADirectoryError\n",
      "KeyError\n",
      "KeyboardInterrupt\n",
      "LookupError\n",
      "MemoryError\n",
      "ModuleNotFoundError\n",
      "NameError\n",
      "NotADirectoryError\n",
      "NotImplementedError\n",
      "OSError\n",
      "OverflowError\n",
      "PendingDeprecationWarning\n",
      "PermissionError\n",
      "ProcessLookupError\n",
      "RecursionError\n",
      "ReferenceError\n",
      "ResourceWarning\n",
      "RuntimeError\n",
      "RuntimeWarning\n",
      "StopAsyncIteration\n",
      "StopIteration\n",
      "SyntaxError\n",
      "SyntaxWarning\n",
      "SystemError\n",
      "SystemExit\n",
      "TabError\n",
      "TimeoutError\n",
      "TypeError\n",
      "UnboundLocalError\n",
      "UnicodeDecodeError\n",
      "UnicodeEncodeError\n",
      "UnicodeError\n",
      "UnicodeTranslateError\n",
      "UnicodeWarning\n",
      "UserWarning\n",
      "ValueError\n",
      "Warning\n",
      "ZeroDivisionError\n"
     ]
    }
   ],
   "source": [
    "# iterate through the built-in exception classes and print their names\n",
    "for exception in dir(__builtins__):\n",
    "    if isinstance(eval(exception), type) and issubclass(eval(exception), BaseException):\n",
    "        print(exception)\n"
   ]
  },
  {
   "cell_type": "markdown",
   "id": "0db4c86b-6e9d-45a3-a16f-c86a51bb5f53",
   "metadata": {},
   "source": [
    "Q3. What errors are defined in the ArithmeticError class? Explain any two with an example."
   ]
  },
  {
   "cell_type": "markdown",
   "id": "537cb5c9-638a-41a1-a6d3-cffc9f644430",
   "metadata": {},
   "source": [
    "The ArithmeticError class is a built-in Python exception class that is raised when an arithmetic operation fails. It is a subclass of the Exception class, and serves as the base class for a number of other exception classes related to arithmetic errors."
   ]
  },
  {
   "cell_type": "code",
   "execution_count": 7,
   "id": "f752e01d-c806-4fad-ac16-9850139e9794",
   "metadata": {},
   "outputs": [
    {
     "name": "stdout",
     "output_type": "stream",
     "text": [
      "division by zero\n"
     ]
    }
   ],
   "source": [
    "# ZeroDivisionError: This error is raised when trying to divide a number by zero. For example:\n",
    "a=10\n",
    "b=0\n",
    "\n",
    "try :\n",
    "    result = a/b\n",
    "except ZeroDivisionError as e:\n",
    "    print(e)"
   ]
  },
  {
   "cell_type": "code",
   "execution_count": 9,
   "id": "070a3b17-2570-4105-88a0-cd40bb0e8fb8",
   "metadata": {},
   "outputs": [
    {
     "name": "stdout",
     "output_type": "stream",
     "text": [
      "unsupported operand type(s) for +: 'int' and 'str'\n"
     ]
    }
   ],
   "source": [
    "# unsupported operand type(s) for +: 'int' and 'str'\n",
    "c=10\n",
    "d=\"20\"\n",
    "try :\n",
    "    result = c+d\n",
    "except Exception as e:\n",
    "    print(e)"
   ]
  },
  {
   "cell_type": "markdown",
   "id": "b84d3a7e-888a-4ecd-b902-64d3031ac402",
   "metadata": {},
   "source": [
    "Q4. Why LookupError class is used? Explain with an example KeyError and IndexError."
   ]
  },
  {
   "cell_type": "markdown",
   "id": "06ca7689-b065-4907-a2ae-8f7139cc2d44",
   "metadata": {},
   "source": [
    "The LookupError class is a built-in Python exception class that serves as the base class for a number of other exception classes related to lookup errors. It is raised when an invalid key or index is used to access a sequence or mapping."
   ]
  },
  {
   "cell_type": "code",
   "execution_count": 27,
   "id": "f891fe53-c99b-40c0-8364-12d365ef5d68",
   "metadata": {},
   "outputs": [
    {
     "ename": "KeyError",
     "evalue": "'name4'",
     "output_type": "error",
     "traceback": [
      "\u001b[0;31m---------------------------------------------------------------------------\u001b[0m",
      "\u001b[0;31mKeyError\u001b[0m                                  Traceback (most recent call last)",
      "Cell \u001b[0;32mIn[27], line 4\u001b[0m\n\u001b[1;32m      1\u001b[0m \u001b[38;5;66;03m# Some of the errors that are defined in the LookupError class include:\u001b[39;00m\n\u001b[1;32m      2\u001b[0m \u001b[38;5;66;03m#1)KeyError: This error is raised when you try to access a non-existent key in a dictionary. For example:\u001b[39;00m\n\u001b[1;32m      3\u001b[0m d \u001b[38;5;241m=\u001b[39m {\u001b[38;5;124m\"\u001b[39m\u001b[38;5;124mname1\u001b[39m\u001b[38;5;124m\"\u001b[39m: \u001b[38;5;124m\"\u001b[39m\u001b[38;5;124mbhim\u001b[39m\u001b[38;5;124m\"\u001b[39m, \u001b[38;5;124m\"\u001b[39m\u001b[38;5;124mname2\u001b[39m\u001b[38;5;124m\"\u001b[39m:\u001b[38;5;124m\"\u001b[39m\u001b[38;5;124mvedh\u001b[39m\u001b[38;5;124m\"\u001b[39m,\u001b[38;5;124m\"\u001b[39m\u001b[38;5;124mname3\u001b[39m\u001b[38;5;124m\"\u001b[39m:\u001b[38;5;124m\"\u001b[39m\u001b[38;5;124msatwik\u001b[39m\u001b[38;5;124m\"\u001b[39m}\n\u001b[0;32m----> 4\u001b[0m \u001b[43md\u001b[49m\u001b[43m[\u001b[49m\u001b[38;5;124;43m\"\u001b[39;49m\u001b[38;5;124;43mname4\u001b[39;49m\u001b[38;5;124;43m\"\u001b[39;49m\u001b[43m]\u001b[49m\n",
      "\u001b[0;31mKeyError\u001b[0m: 'name4'"
     ]
    }
   ],
   "source": [
    "# Some of the errors that are defined in the LookupError class include:\n",
    "#1)KeyError: This error is raised when you try to access a non-existent key in a dictionary. For example:\n",
    "d = {\"name1\": \"bhim\", \"name2\":\"vedh\",\"name3\":\"satwik\"}\n",
    "d[\"name4\"]\n"
   ]
  },
  {
   "cell_type": "code",
   "execution_count": 29,
   "id": "bd84cc7b-0be6-4438-969a-2a78590f473f",
   "metadata": {},
   "outputs": [
    {
     "ename": "IndexError",
     "evalue": "list index out of range",
     "output_type": "error",
     "traceback": [
      "\u001b[0;31m---------------------------------------------------------------------------\u001b[0m",
      "\u001b[0;31mIndexError\u001b[0m                                Traceback (most recent call last)",
      "Cell \u001b[0;32mIn[29], line 4\u001b[0m\n\u001b[1;32m      1\u001b[0m \u001b[38;5;66;03m# IndexError: This error is raised when you try to access a non-existent index in a sequence such as a list or a tuple. For example:\u001b[39;00m\n\u001b[1;32m      3\u001b[0m l \u001b[38;5;241m=\u001b[39m [\u001b[38;5;241m1\u001b[39m,\u001b[38;5;241m2\u001b[39m,\u001b[38;5;241m3\u001b[39m,\u001b[38;5;241m4\u001b[39m,\u001b[38;5;241m5\u001b[39m,\u001b[38;5;241m6\u001b[39m]\n\u001b[0;32m----> 4\u001b[0m \u001b[43ml\u001b[49m\u001b[43m[\u001b[49m\u001b[38;5;241;43m10\u001b[39;49m\u001b[43m]\u001b[49m\n",
      "\u001b[0;31mIndexError\u001b[0m: list index out of range"
     ]
    }
   ],
   "source": [
    "# IndexError: This error is raised when you try to access a non-existent index in a sequence such as a list or a tuple. For example:\n",
    "\n",
    "l = [1,2,3,4,5,6]\n",
    "l[10]"
   ]
  },
  {
   "cell_type": "markdown",
   "id": "0e75ae3a-f976-45be-9bb0-cb8e07c317c8",
   "metadata": {},
   "source": [
    "The LookupError class is useful because it allows you to handle lookup errors in a more general way, without having to distinguish between different types of lookup errors. For example, if you want to handle any kind of lookup error in the same way, you can catch LookupError instead of KeyError or IndexError specifically:"
   ]
  },
  {
   "cell_type": "code",
   "execution_count": 31,
   "id": "838348e1-aae4-48dd-a7d4-3da656e80c7f",
   "metadata": {},
   "outputs": [
    {
     "name": "stdout",
     "output_type": "stream",
     "text": [
      "Error: list index out of range\n"
     ]
    }
   ],
   "source": [
    "try:\n",
    "    l = [1,2,3,4,5,6]\n",
    "    l[10]\n",
    "    \n",
    "except LookupError as e:\n",
    "    print(f\"Error: {e}\")\n"
   ]
  },
  {
   "cell_type": "markdown",
   "id": "d3ae2872-6d13-4ef2-bdfc-ede4ecf0a032",
   "metadata": {},
   "source": [
    "Q5. Explain ImportError. What is ModuleNotFoundError?"
   ]
  },
  {
   "cell_type": "markdown",
   "id": "6de7e73b-9e68-4389-bd4d-d3f971797bec",
   "metadata": {},
   "source": [
    "ImportError is a built-in Python exception class that is raised when a module or a package could not be imported. It can occur for a variety of reasons such as the module or package not existing, a circular import, or an error in the module code. The ImportError class is a subclass of the Exception class."
   ]
  },
  {
   "cell_type": "markdown",
   "id": "c264c8b1-99fd-4a5a-ab7d-59b5393a3f1a",
   "metadata": {},
   "source": [
    "ModuleNotFoundError is a subclass of ImportError that was introduced in Python 3.6. It is a more specific type of ImportError that is raised when a module is not found. In other words, if Python cannot find the module that you're trying to import, it will raise a ModuleNotFoundError. Prior to Python 3.6, an ImportError was raised for all import-related errors, including cases where the module was not found."
   ]
  },
  {
   "cell_type": "code",
   "execution_count": 34,
   "id": "5244cd8c-3313-40a6-87bc-dc6561cf7d0e",
   "metadata": {},
   "outputs": [
    {
     "name": "stdout",
     "output_type": "stream",
     "text": [
      "Import error: No module named 'my_module'\n"
     ]
    }
   ],
   "source": [
    "# It's important to note that ImportError and ModuleNotFoundError are both exceptions that can be caught using a try-except block. \n",
    "#Here's an example of how you can catch an ImportError or a ModuleNotFoundError:\n",
    "try:\n",
    "    import my_module\n",
    "except ImportError as e:\n",
    "    print(f\"Import error: {e}\")\n",
    "except ModuleNotFoundError as e:\n",
    "    print(f\"Module not found error: {e}\")\n"
   ]
  },
  {
   "cell_type": "markdown",
   "id": "81be01ef-5e94-4a17-b839-e9fee75b4665",
   "metadata": {},
   "source": [
    "Q6. List down some best practices for exception handling in python."
   ]
  },
  {
   "cell_type": "code",
   "execution_count": 35,
   "id": "b714f9b0-5803-45be-af00-ec087309b939",
   "metadata": {},
   "outputs": [
    {
     "name": "stdout",
     "output_type": "stream",
     "text": [
      "division by zero\n"
     ]
    }
   ],
   "source": [
    "#use always a specific exception\n",
    "try :\n",
    "    a=10/0\n",
    "except ZeroDivisionError as e:\n",
    "    print(e)"
   ]
  },
  {
   "cell_type": "code",
   "execution_count": 37,
   "id": "34d6ad45-5d76-41b4-89dc-c9c44771c9d0",
   "metadata": {},
   "outputs": [
    {
     "name": "stdout",
     "output_type": "stream",
     "text": [
      "this is zero Division Error as iam dividing integer be Zero\n"
     ]
    }
   ],
   "source": [
    " # use always proper valid messgae\n",
    "try :\n",
    "    a=10/0\n",
    "except ZeroDivisionError as e:\n",
    "    print(\"this is zero Division Error as iam dividing integer be Zero\")"
   ]
  },
  {
   "cell_type": "code",
   "execution_count": 46,
   "id": "3c113dcc-0344-4d05-a064-88695037aaf3",
   "metadata": {},
   "outputs": [],
   "source": [
    "#always use log\n",
    "import logging\n",
    "logging.basicConfig(filename = \"loogingtest.log\", level = logging.ERROR)\n",
    "\n",
    "try :\n",
    "    10/0\n",
    "except ZeroDivisionError as e:\n",
    "    logging.error(\"this is a zero division error in the file \")\n",
    "    "
   ]
  },
  {
   "cell_type": "code",
   "execution_count": null,
   "id": "2ec99044-6fe6-47ba-92db-e38303c44348",
   "metadata": {},
   "outputs": [],
   "source": [
    "#prepare proper documentation"
   ]
  },
  {
   "cell_type": "code",
   "execution_count": null,
   "id": "aa2af847-356d-4fc0-bdcf-79db199570d3",
   "metadata": {},
   "outputs": [],
   "source": [
    "#clean up all the resource\n",
    "try :\n",
    "    with open(\"file.txt\".'w') as f:\n",
    "        f.write(\"this is my message to file\")\n",
    "except FileNotFoundError as e:\n",
    "    print(e)\n",
    "finally :\n",
    "    f.close()\n"
   ]
  }
 ],
 "metadata": {
  "kernelspec": {
   "display_name": "Python 3 (ipykernel)",
   "language": "python",
   "name": "python3"
  },
  "language_info": {
   "codemirror_mode": {
    "name": "ipython",
    "version": 3
   },
   "file_extension": ".py",
   "mimetype": "text/x-python",
   "name": "python",
   "nbconvert_exporter": "python",
   "pygments_lexer": "ipython3",
   "version": "3.10.8"
  }
 },
 "nbformat": 4,
 "nbformat_minor": 5
}
